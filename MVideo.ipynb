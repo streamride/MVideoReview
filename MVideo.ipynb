{
 "cells": [
  {
   "cell_type": "code",
   "execution_count": 67,
   "metadata": {},
   "outputs": [],
   "source": [
    "import numpy as np, pandas as pd\n",
    "from sklearn.feature_extraction.text import CountVectorizer\n",
    "from sklearn.model_selection import train_test_split\n",
    "from sklearn.ensemble import RandomForestClassifier\n",
    "from sklearn.model_selection import cross_val_score\n",
    "from sklearn.metrics import accuracy_score\n",
    "from sklearn.feature_extraction.text import TfidfVectorizer\n",
    "from pymystem3 import Mystem\n",
    "import nltk"
   ]
  },
  {
   "cell_type": "code",
   "execution_count": 43,
   "metadata": {},
   "outputs": [
    {
     "name": "stderr",
     "output_type": "stream",
     "text": [
      "Skipping line 396: ',' expected after '\"'\n",
      "Skipping line 453: ',' expected after '\"'\n",
      "Skipping line 1340: ',' expected after '\"'\n",
      "Skipping line 1715: ',' expected after '\"'\n",
      "Skipping line 2115: ',' expected after '\"'\n",
      "Skipping line 2170: ',' expected after '\"'\n",
      "Skipping line 2201: ',' expected after '\"'\n",
      "Skipping line 2674: ',' expected after '\"'\n",
      "Skipping line 2680: ',' expected after '\"'\n",
      "Skipping line 4355: ',' expected after '\"'\n",
      "Skipping line 7168: ',' expected after '\"'\n",
      "Skipping line 7312: ',' expected after '\"'\n",
      "Skipping line 7320: ',' expected after '\"'\n",
      "Skipping line 8954: ',' expected after '\"'\n",
      "Skipping line 8977: ',' expected after '\"'\n",
      "Skipping line 9645: ',' expected after '\"'\n",
      "Skipping line 9846: ',' expected after '\"'\n",
      "Skipping line 9884: ',' expected after '\"'\n",
      "Skipping line 11091: ',' expected after '\"'\n",
      "Skipping line 11127: ',' expected after '\"'\n",
      "Skipping line 11156: ',' expected after '\"'\n",
      "Skipping line 12268: ',' expected after '\"'\n",
      "Skipping line 12465: ',' expected after '\"'\n",
      "Skipping line 13015: ',' expected after '\"'\n",
      "Skipping line 13447: ',' expected after '\"'\n",
      "Skipping line 14825: ',' expected after '\"'\n",
      "Skipping line 15264: ',' expected after '\"'\n",
      "Skipping line 15643: ',' expected after '\"'\n",
      "Skipping line 16393: ',' expected after '\"'\n",
      "Skipping line 18054: ',' expected after '\"'\n",
      "Skipping line 18259: ',' expected after '\"'\n",
      "Skipping line 18274: ',' expected after '\"'\n"
     ]
    },
    {
     "data": {
      "text/html": [
       "<div>\n",
       "<style>\n",
       "    .dataframe thead tr:only-child th {\n",
       "        text-align: right;\n",
       "    }\n",
       "\n",
       "    .dataframe thead th {\n",
       "        text-align: left;\n",
       "    }\n",
       "\n",
       "    .dataframe tbody tr th {\n",
       "        vertical-align: top;\n",
       "    }\n",
       "</style>\n",
       "<table border=\"1\" class=\"dataframe\">\n",
       "  <thead>\n",
       "    <tr style=\"text-align: right;\">\n",
       "      <th></th>\n",
       "      <th>0</th>\n",
       "      <th>1</th>\n",
       "      <th>2</th>\n",
       "      <th>3</th>\n",
       "      <th>4</th>\n",
       "      <th>5</th>\n",
       "      <th>6</th>\n",
       "    </tr>\n",
       "  </thead>\n",
       "  <tbody>\n",
       "    <tr>\n",
       "      <th>0</th>\n",
       "      <td>1</td>\n",
       "      <td>8342</td>\n",
       "      <td>Александр</td>\n",
       "      <td>2017-04-12</td>\n",
       "      <td>6 входов, предохранитель</td>\n",
       "      <td>искрит при включении любого устройства в любой...</td>\n",
       "      <td>Данный сетевой фильтр начал искрить после неде...</td>\n",
       "    </tr>\n",
       "    <tr>\n",
       "      <th>1</th>\n",
       "      <td>5</td>\n",
       "      <td>8342</td>\n",
       "      <td>Елена</td>\n",
       "      <td>2015-08-04</td>\n",
       "      <td>Я являюсь пользователем Пилотов уже больше 10 ...</td>\n",
       "      <td></td>\n",
       "      <td></td>\n",
       "    </tr>\n",
       "    <tr>\n",
       "      <th>2</th>\n",
       "      <td>5</td>\n",
       "      <td>5311</td>\n",
       "      <td>Леонид</td>\n",
       "      <td>2017-07-16</td>\n",
       "      <td>хорошо мелет</td>\n",
       "      <td>маркий, остаются следы</td>\n",
       "      <td>Использую 1 месяц. Пока  проблем нет.</td>\n",
       "    </tr>\n",
       "    <tr>\n",
       "      <th>3</th>\n",
       "      <td>4</td>\n",
       "      <td>5311</td>\n",
       "      <td>Сергей</td>\n",
       "      <td>2017-06-28</td>\n",
       "      <td>Компактная</td>\n",
       "      <td>Не нашел</td>\n",
       "      <td>Работает на ура. В инструкции четко написано, ...</td>\n",
       "    </tr>\n",
       "    <tr>\n",
       "      <th>4</th>\n",
       "      <td>5</td>\n",
       "      <td>5311</td>\n",
       "      <td>Ольга</td>\n",
       "      <td>2017-01-21</td>\n",
       "      <td>Цена и качество</td>\n",
       "      <td>Нет</td>\n",
       "      <td>В использовании 2 месяца перемалывает быстро и...</td>\n",
       "    </tr>\n",
       "  </tbody>\n",
       "</table>\n",
       "</div>"
      ],
      "text/plain": [
       "   0     1          2           3  \\\n",
       "0  1  8342  Александр  2017-04-12   \n",
       "1  5  8342      Елена  2015-08-04   \n",
       "2  5  5311     Леонид  2017-07-16   \n",
       "3  4  5311     Сергей  2017-06-28   \n",
       "4  5  5311      Ольга  2017-01-21   \n",
       "\n",
       "                                                   4  \\\n",
       "0                           6 входов, предохранитель   \n",
       "1  Я являюсь пользователем Пилотов уже больше 10 ...   \n",
       "2                                       хорошо мелет   \n",
       "3                                         Компактная   \n",
       "4                                    Цена и качество   \n",
       "\n",
       "                                                   5  \\\n",
       "0  искрит при включении любого устройства в любой...   \n",
       "1                                                      \n",
       "2                             маркий, остаются следы   \n",
       "3                                           Не нашел   \n",
       "4                                                Нет   \n",
       "\n",
       "                                                   6  \n",
       "0  Данный сетевой фильтр начал искрить после неде...  \n",
       "1                                                     \n",
       "2              Использую 1 месяц. Пока  проблем нет.  \n",
       "3  Работает на ура. В инструкции четко написано, ...  \n",
       "4  В использовании 2 месяца перемалывает быстро и...  "
      ]
     },
     "execution_count": 43,
     "metadata": {},
     "output_type": "execute_result"
    }
   ],
   "source": [
    "data = pd.read_csv('feedback.csv', sep=',', engine='python', encoding='utf-8', error_bad_lines=False, header=None)\n",
    "data = data.fillna('')\n",
    "data[0] = data[0].astype(int)\n",
    "data.head()"
   ]
  },
  {
   "cell_type": "code",
   "execution_count": 92,
   "metadata": {},
   "outputs": [],
   "source": [
    "mystem = Mystem()\n",
    "def make_lemma(sentence):\n",
    "    res = ' '.join([mystem.lemmatize(word)[0] for word in sentence.split()])\n",
    "    return res"
   ]
  },
  {
   "cell_type": "code",
   "execution_count": 91,
   "metadata": {},
   "outputs": [
    {
     "data": {
      "text/plain": [
       "'6 вход предохранитель искрить при включение любой устройство в любой сетевой вход данный сетевой фильтр начинать искрить после неделя эксплуатация защищать компьютер от перепад напряжение я думать он вряд ли смочь'"
      ]
     },
     "execution_count": 91,
     "metadata": {},
     "output_type": "execute_result"
    }
   ],
   "source": [
    "sentences = data[4] +' ' + data[5] +' ' + data[6]\n",
    "sentences = sentences.str.lower().apply(make_lemma)\n",
    "sentences[0]"
   ]
  },
  {
   "cell_type": "code",
   "execution_count": 103,
   "metadata": {
    "collapsed": true
   },
   "outputs": [],
   "source": [
    "stop_words= nltk.corpus.stopwords.words('russian')\n",
    "vectorizer = TfidfVectorizer(sublinear_tf=True, ngram_range=(1, 1), stop_words=stop_words)\n",
    "features = vectorizer.fit_transform(sentences)"
   ]
  },
  {
   "cell_type": "code",
   "execution_count": 104,
   "metadata": {
    "collapsed": true
   },
   "outputs": [],
   "source": [
    "X, y = features, data[0]\n",
    "X_train, X_test, y_train, y_test = train_test_split(X,y, test_size=0.3)"
   ]
  },
  {
   "cell_type": "code",
   "execution_count": 105,
   "metadata": {},
   "outputs": [
    {
     "data": {
      "text/plain": [
       "(12817, 26742)"
      ]
     },
     "execution_count": 105,
     "metadata": {},
     "output_type": "execute_result"
    }
   ],
   "source": [
    "X_train.shape"
   ]
  },
  {
   "cell_type": "code",
   "execution_count": 106,
   "metadata": {},
   "outputs": [
    {
     "data": {
      "text/plain": [
       "RandomForestClassifier(bootstrap=True, class_weight=None, criterion='gini',\n",
       "            max_depth=120, max_features='auto', max_leaf_nodes=None,\n",
       "            min_impurity_split=1e-07, min_samples_leaf=1,\n",
       "            min_samples_split=2, min_weight_fraction_leaf=0.0,\n",
       "            n_estimators=10, n_jobs=1, oob_score=False, random_state=0,\n",
       "            verbose=0, warm_start=False)"
      ]
     },
     "execution_count": 106,
     "metadata": {},
     "output_type": "execute_result"
    }
   ],
   "source": [
    "model = RandomForestClassifier(max_depth=120, random_state=0)\n",
    "model.fit(X_train, y_train)"
   ]
  },
  {
   "cell_type": "code",
   "execution_count": 107,
   "metadata": {},
   "outputs": [
    {
     "data": {
      "text/plain": [
       "0.62206444565811037"
      ]
     },
     "execution_count": 107,
     "metadata": {},
     "output_type": "execute_result"
    }
   ],
   "source": [
    "res = accuracy_score(y_test, model.predict(X_test))\n",
    "res"
   ]
  },
  {
   "cell_type": "code",
   "execution_count": null,
   "metadata": {
    "collapsed": true
   },
   "outputs": [],
   "source": []
  }
 ],
 "metadata": {
  "kernelspec": {
   "display_name": "Python 3",
   "language": "python",
   "name": "python3"
  },
  "language_info": {
   "codemirror_mode": {
    "name": "ipython",
    "version": 3
   },
   "file_extension": ".py",
   "mimetype": "text/x-python",
   "name": "python",
   "nbconvert_exporter": "python",
   "pygments_lexer": "ipython3",
   "version": "3.6.1"
  }
 },
 "nbformat": 4,
 "nbformat_minor": 2
}
